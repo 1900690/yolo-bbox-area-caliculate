{
  "nbformat": 4,
  "nbformat_minor": 0,
  "metadata": {
    "colab": {
      "provenance": [],
      "include_colab_link": true
    },
    "kernelspec": {
      "name": "python3",
      "display_name": "Python 3"
    },
    "language_info": {
      "name": "python"
    }
  },
  "cells": [
    {
      "cell_type": "markdown",
      "metadata": {
        "id": "view-in-github",
        "colab_type": "text"
      },
      "source": [
        "<a href=\"https://colab.research.google.com/github/1900690/yolo-bbox-area-caliculate/blob/main/area_caliculate.ipynb\" target=\"_parent\"><img src=\"https://colab.research.google.com/assets/colab-badge.svg\" alt=\"Open In Colab\"/></a>"
      ]
    },
    {
      "cell_type": "code",
      "source": [
        "%pip install ultralytics  # install\n",
        "from ultralytics import YOLO, checks, hub\n",
        "\n",
        "checks()  # checks"
      ],
      "metadata": {
        "id": "cm1FqeSev3a1"
      },
      "execution_count": null,
      "outputs": []
    },
    {
      "cell_type": "code",
      "source": [
        "from ultralytics import YOLO\n",
        "\n",
        "model = YOLO(\"yolo11n.pt\")\n",
        "\n",
        "model.predict(\"bus.jpg\", save=True, imgsz=320, conf=0.5,save_txt=True)"
      ],
      "metadata": {
        "id": "8WGK0Q4Xv0WD"
      },
      "execution_count": null,
      "outputs": []
    },
    {
      "cell_type": "code",
      "source": [
        "#@title ダイレクトカラー画像から害虫の位置をエクセルにまとめる\n",
        "#ライブラリをインポート\n",
        "import cv2\n",
        "from matplotlib import pyplot as plt\n",
        "import numpy as np\n",
        "from PIL import Image\n",
        "from skimage import measure\n",
        "import csv\n",
        "import glob\n",
        "import os\n",
        "\n",
        "#画像の名前を読み込み\n",
        "read_files_name='/content/instance_segmentations/*'\n",
        "read_files = glob.glob(read_files_name)\n",
        "\n",
        "#インデックスカラー化した画像を入れるフォルダを作成\n",
        "if not os.path.exists('/content/index_coler/'):\n",
        "  os.mkdir('/content/index_coler/')\n",
        "\n",
        "#作るエクセルファイルの見出し行を作成\n",
        "data = [[\"Name\",\"Type\",\"Value\",\"x1\",\"y1\",\"x2\",\"y2\",\"Attributes\",\"color_number\",\"color_area\",\"center_name\"],]\n",
        "with open(\"mask_bbox.csv\", \"w\") as file:\n",
        "        writer = csv.writer(file)\n",
        "        writer.writerows(data)\n",
        "\n",
        "#処理を画像の枚数分繰り返す\n",
        "for file_name in read_files:\n",
        "  fname = file_name #画像ファイル名\n",
        "  img = np.array(Image.open(fname))\n",
        "  NAME=fname[32:-4]\n",
        "\n",
        "  #numpy形式からpil形式へ変換\n",
        "  im = Image.fromarray(img)\n",
        "  #ダイレクトカラーからインデックスカラーへ変換\n",
        "  c = im.getcolors(im.width * im.height)#この関数はpil形式でしか使えない\n",
        "  h,w=np.array(im).shape[:2]\n",
        "  indexcoler=np.zeros((h,w))\n",
        "  for coler in range(len(c)):\n",
        "     split=np.zeros((h,w,3))\n",
        "     split[:,:,0]=np.full((h, w), c[coler][1][0])\n",
        "     split[:,:,1]=np.full((h, w), c[coler][1][1])\n",
        "     split[:,:,2]=np.full((h, w), c[coler][1][2])\n",
        "     truefalse=np.equal(split,im)\n",
        "     zeroone = np.where(truefalse == True, 1, 0)\n",
        "     after=zeroone[:,:,0]+zeroone[:,:,1]+zeroone[:,:,2]\n",
        "     split_after = np.where(after == 3, coler, 0)\n",
        "     indexcoler=indexcoler+split_after\n",
        "  #pil形式からnumpy形式へ変換\n",
        "  img = np.array(indexcoler)\n",
        "\n",
        "  #色を二値化（白黒の二色にする）\n",
        "  c = Image.fromarray(img).getcolors(Image.fromarray(img).width * Image.fromarray(img).height)\n",
        "  img_binary = np.where(img == max(c)[1], 0, 255)\n",
        "\n",
        "  #color_numberの順番を面積が大きいほうから０を割り振る（インデックス０番は必ず背景色の黒になるようにする）\n",
        "  img2=np.zeros_like((img))\n",
        "  for i in range(int(sorted(c,reverse=True)[0][1])+1):\n",
        "    img2= np.where(img ==int(sorted(c,reverse=True)[i][1]),int((sorted(c,reverse=True)[0][1])-(sorted(c,reverse=True)[i][1])),img2)\n",
        "  c2 = Image.fromarray(img2).getcolors(Image.fromarray(img2).width * Image.fromarray(img2).height)\n",
        "\n",
        "  #次のセルで使うためにインデックスカラー画像を保存\n",
        "  cv2.imwrite(\"/content/index_coler/\"+file_name[32:],img2)\n",
        "\n",
        "  #各害虫の位置の座標を求める\n",
        "  #contours = measure.find_contours(img, 0.0)\n",
        "  contours_binary = measure.find_contours(img_binary, 0.0)\n",
        "\n",
        "  #座標の情報をエクセルファイルに書き込んでいく\n",
        "  for number in list(range(len(contours_binary))):\n",
        "\n",
        "    y_min = int(np.amin(contours_binary[number],axis=0)[0])\n",
        "    y_max = int(np.amax(contours_binary[number],axis=0)[0])\n",
        "    x_min = int(np.amin(contours_binary[number],axis=0)[1])\n",
        "    x_max = int(np.amax(contours_binary[number],axis=0)[1])\n",
        "    #color_number = img2[int((y_min+y_max)/2),int((x_min+x_max)/2)]\n",
        "    color_number = np.amax(img2[y_min:y_max+1,x_min:x_max+1])\n",
        "    coler=str(int(color_number))\n",
        "    area  = (y_max-y_min)*(x_max-x_min)\n",
        "    centername=NAME+\"_\"+str('{0:04d}'.format(int((x_max+x_min)/2)))+\"_\"+str('{0:04d}'.format(int((y_max+y_min)/2)))\n",
        "    data=[[NAME,\"bbox\",\"mite\",x_min,y_min,x_max,y_max,\"\",coler,area,centername]]\n",
        "\n",
        "    with open(\"mask_bbox.csv\",mode=\"a\", newline=\"\") as file:\n",
        "          writer = csv.writer(file)\n",
        "          writer.writerows(data)"
      ],
      "metadata": {
        "id": "9mUL68wdw8qv"
      },
      "execution_count": null,
      "outputs": []
    }
  ]
}