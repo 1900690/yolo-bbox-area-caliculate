{
  "nbformat": 4,
  "nbformat_minor": 0,
  "metadata": {
    "colab": {
      "provenance": [],
      "include_colab_link": true
    },
    "kernelspec": {
      "name": "python3",
      "display_name": "Python 3"
    },
    "language_info": {
      "name": "python"
    }
  },
  "cells": [
    {
      "cell_type": "markdown",
      "metadata": {
        "id": "view-in-github",
        "colab_type": "text"
      },
      "source": [
        "<a href=\"https://colab.research.google.com/github/1900690/yolo-bbox-area-caliculate/blob/main/area_caliculate.ipynb\" target=\"_parent\"><img src=\"https://colab.research.google.com/assets/colab-badge.svg\" alt=\"Open In Colab\"/></a>"
      ]
    },
    {
      "cell_type": "code",
      "source": [
        "%pip -q install ultralytics  # install\n",
        "from ultralytics import YOLO, checks, hub\n",
        "\n",
        "checks()  # checks"
      ],
      "metadata": {
        "id": "cm1FqeSev3a1",
        "outputId": "efbe4437-bd53-41ba-8f9a-7eebf3f81353",
        "colab": {
          "base_uri": "https://localhost:8080/"
        }
      },
      "execution_count": 1,
      "outputs": [
        {
          "output_type": "stream",
          "name": "stdout",
          "text": [
            "Ultralytics 8.3.37 🚀 Python-3.10.12 torch-2.5.1+cu121 CPU (Intel Xeon 2.20GHz)\n",
            "Setup complete ✅ (2 CPUs, 12.7 GB RAM, 32.5/107.7 GB disk)\n"
          ]
        }
      ]
    },
    {
      "cell_type": "code",
      "source": [
        "from ultralytics.utils.plotting import Annotator\n",
        "from ultralytics import YOLO\n",
        "import cv2\n",
        "import os\n",
        "import tensorflow as tf\n",
        "from PIL import Image, ImageDraw\n",
        "import numpy as np\n",
        "import pandas as pd\n",
        "\n",
        "model = YOLO('/content/itigo.pt')  # ★モデルを指定\n",
        "\n",
        "if os.path.exists('/content/detect.txt'):\n",
        "  os.remove('/content/detect.txt')\n",
        "\n",
        "# Process the image\n",
        "source = cv2.imread('/content/itigo2.jpg')#★検出画像を指定\n",
        "results = model(source,conf=0.25,iou=0.45,save_txt=True)\n",
        "\n",
        "# Extract results\n",
        "annotator = Annotator(source, example=model.names)\n",
        "\n",
        "for box in results[0].boxes.xyxy.cpu():\n",
        "    width, height, area = annotator.get_bbox_dimension(box)\n",
        "    datalist = [str(box[0].item()),\" \",str(box[1].item()),\" \",str(box[2].item()),\" \",str(box[3].item()),\" \",str(area.item()),\"\\n\"]\n",
        "    f = open('/content/myfile.txt', 'a')\n",
        "    f.writelines(datalist)\n",
        "    f.close()\n",
        "\n",
        "#計算する座標データを読み込み\n",
        "txt_file = pd.read_csv(\"/content/myfile.txt\",header=None, sep=\" \")\n",
        "#大きいほうから〇個分を抽出\n",
        "pickup_file=txt_file.nlargest(5, columns=4)#★検出個数を指定\n",
        "# テキスト形式で出力\n",
        "pickup_file.to_csv('/content/pickup.txt',header=False, index=False, sep=\" \")\n",
        "\n",
        "#書き込む画像を読み込み\n",
        "im_original = Image.open(\"/content/itigo2.jpg\")\n",
        "image_height,image_width=np.array(im_original).shape[:2]\n",
        "\n",
        "#書き込む座標データを読み込み\n",
        "txt_file = pd.read_csv(\"/content/pickup.txt\",header=None, sep=\" \")\n",
        "for annotation in range(len(txt_file)):\n",
        "  draw = ImageDraw.Draw(im_original)\n",
        "  x1=txt_file[0][annotation]\n",
        "  y1=txt_file[1][annotation]\n",
        "  x2=txt_file[2][annotation]\n",
        "  y2=txt_file[3][annotation]\n",
        "  draw.rectangle((x1, y1, x2, y2), outline=(0, 255, 0), width=5)\n",
        "\n",
        "  im_original.save('/content/itigo1_after.jpg')"
      ],
      "metadata": {
        "id": "xFEv3fIVpQGe",
        "outputId": "03d06794-d1ac-48a4-d7fe-00a22de177f7",
        "colab": {
          "base_uri": "https://localhost:8080/",
          "height": 419
        }
      },
      "execution_count": 2,
      "outputs": [
        {
          "output_type": "stream",
          "name": "stdout",
          "text": [
            "\n",
            "0: 640x640 49 strawberrys, 4076.6ms\n",
            "Speed: 20.3ms preprocess, 4076.6ms inference, 37.7ms postprocess per image at shape (1, 3, 640, 640)\n",
            "Results saved to \u001b[1mruns/detect/predict\u001b[0m\n",
            "1 label saved to runs/detect/predict/labels\n"
          ]
        },
        {
          "output_type": "error",
          "ename": "FileNotFoundError",
          "evalue": "[Errno 2] No such file or directory: '/content/itigo1.jpg'",
          "traceback": [
            "\u001b[0;31m---------------------------------------------------------------------------\u001b[0m",
            "\u001b[0;31mFileNotFoundError\u001b[0m                         Traceback (most recent call last)",
            "\u001b[0;32m<ipython-input-2-f48888051274>\u001b[0m in \u001b[0;36m<cell line: 37>\u001b[0;34m()\u001b[0m\n\u001b[1;32m     35\u001b[0m \u001b[0;34m\u001b[0m\u001b[0m\n\u001b[1;32m     36\u001b[0m \u001b[0;31m#書き込む画像を読み込み\u001b[0m\u001b[0;34m\u001b[0m\u001b[0;34m\u001b[0m\u001b[0m\n\u001b[0;32m---> 37\u001b[0;31m \u001b[0mim_original\u001b[0m \u001b[0;34m=\u001b[0m \u001b[0mImage\u001b[0m\u001b[0;34m.\u001b[0m\u001b[0mopen\u001b[0m\u001b[0;34m(\u001b[0m\u001b[0;34m\"/content/itigo1.jpg\"\u001b[0m\u001b[0;34m)\u001b[0m\u001b[0;34m\u001b[0m\u001b[0;34m\u001b[0m\u001b[0m\n\u001b[0m\u001b[1;32m     38\u001b[0m \u001b[0mimage_height\u001b[0m\u001b[0;34m,\u001b[0m\u001b[0mimage_width\u001b[0m\u001b[0;34m=\u001b[0m\u001b[0mnp\u001b[0m\u001b[0;34m.\u001b[0m\u001b[0marray\u001b[0m\u001b[0;34m(\u001b[0m\u001b[0mim_original\u001b[0m\u001b[0;34m)\u001b[0m\u001b[0;34m.\u001b[0m\u001b[0mshape\u001b[0m\u001b[0;34m[\u001b[0m\u001b[0;34m:\u001b[0m\u001b[0;36m2\u001b[0m\u001b[0;34m]\u001b[0m\u001b[0;34m\u001b[0m\u001b[0;34m\u001b[0m\u001b[0m\n\u001b[1;32m     39\u001b[0m \u001b[0;34m\u001b[0m\u001b[0m\n",
            "\u001b[0;32m/usr/local/lib/python3.10/dist-packages/PIL/Image.py\u001b[0m in \u001b[0;36mopen\u001b[0;34m(fp, mode, formats)\u001b[0m\n\u001b[1;32m   3467\u001b[0m \u001b[0;34m\u001b[0m\u001b[0m\n\u001b[1;32m   3468\u001b[0m     \u001b[0;32mif\u001b[0m \u001b[0mfilename\u001b[0m\u001b[0;34m:\u001b[0m\u001b[0;34m\u001b[0m\u001b[0;34m\u001b[0m\u001b[0m\n\u001b[0;32m-> 3469\u001b[0;31m         \u001b[0mfp\u001b[0m \u001b[0;34m=\u001b[0m \u001b[0mbuiltins\u001b[0m\u001b[0;34m.\u001b[0m\u001b[0mopen\u001b[0m\u001b[0;34m(\u001b[0m\u001b[0mfilename\u001b[0m\u001b[0;34m,\u001b[0m \u001b[0;34m\"rb\"\u001b[0m\u001b[0;34m)\u001b[0m\u001b[0;34m\u001b[0m\u001b[0;34m\u001b[0m\u001b[0m\n\u001b[0m\u001b[1;32m   3470\u001b[0m         \u001b[0mexclusive_fp\u001b[0m \u001b[0;34m=\u001b[0m \u001b[0;32mTrue\u001b[0m\u001b[0;34m\u001b[0m\u001b[0;34m\u001b[0m\u001b[0m\n\u001b[1;32m   3471\u001b[0m     \u001b[0;32melse\u001b[0m\u001b[0;34m:\u001b[0m\u001b[0;34m\u001b[0m\u001b[0;34m\u001b[0m\u001b[0m\n",
            "\u001b[0;31mFileNotFoundError\u001b[0m: [Errno 2] No such file or directory: '/content/itigo1.jpg'"
          ]
        }
      ]
    }
  ]
}